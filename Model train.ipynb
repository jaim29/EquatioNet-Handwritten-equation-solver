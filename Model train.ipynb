{
 "cells": [
  {
   "cell_type": "markdown",
   "metadata": {},
   "source": [
    "# Model building & training"
   ]
  },
  {
   "cell_type": "code",
   "execution_count": 1,
   "metadata": {},
   "outputs": [],
   "source": [
    "import keras\n",
    "from keras.models import Model\n",
    "from keras.layers import *\n",
    "from keras import optimizers\n",
    "from keras.layers import Input, Dense\n",
    "from keras.models import Sequential\n",
    "from keras.layers import Dense\n",
    "from keras.layers import Dropout\n",
    "from keras.layers import Flatten\n",
    "from keras.layers.convolutional import Conv2D\n",
    "from keras.layers.convolutional import MaxPooling2D\n",
    "from keras.utils import np_utils\n",
    "from keras import backend as K\n",
    "from keras.utils.np_utils import to_categorical\n",
    "import numpy as np\n",
    "import pandas as pd\n",
    "import os\n",
    "from os import listdir\n",
    "from os.path import isfile, join\n",
    "%matplotlib inline \n",
    "from matplotlib import pyplot as plt"
   ]
  },
  {
   "cell_type": "code",
   "execution_count": 2,
   "metadata": {},
   "outputs": [],
   "source": [
    "K.set_image_data_format('channels_last')"
   ]
  },
  {
   "cell_type": "code",
   "execution_count": 36,
   "metadata": {},
   "outputs": [],
   "source": [
    "dd = pd.read_csv('train_dataset.csv')\n",
    "dd = dd.drop('Unnamed: 0', axis = 1)\n",
    "dd.columns = pd.RangeIndex(0,785,1)"
   ]
  },
  {
   "cell_type": "code",
   "execution_count": 49,
   "metadata": {},
   "outputs": [
    {
     "data": {
      "text/plain": [
       "<matplotlib.image.AxesImage at 0x7ff933567510>"
      ]
     },
     "execution_count": 49,
     "metadata": {},
     "output_type": "execute_result"
    },
    {
     "data": {
      "image/png": "[encoded data removed]",
      "text/plain": [
       "<Figure size 432x288 with 1 Axes>"
      ]
     },
     "metadata": {
      "needs_background": "light"
     },
     "output_type": "display_data"
    }
   ],
   "source": [
    "a = np.array(dd.loc[0])[:-1]\n",
    "a = a.reshape((28,28))\n",
    "plt.imshow(a.astype('float'), cmap = 'gray')"
   ]
  },
  {
   "cell_type": "code",
   "execution_count": 43,
   "metadata": {},
   "outputs": [],
   "source": [
    "y_train = dd[[784]]\n",
    "y_train = np.array(y_train)\n",
    "y_train = to_categorical(y_train, num_classes=15)"
   ]
  },
  {
   "cell_type": "code",
   "execution_count": 44,
   "metadata": {},
   "outputs": [],
   "source": [
    "dd_train = dd.drop(784, axis = 1)\n",
    "dict_to_change= {i:'float32' for i in range(784)}\n",
    "dd_train = dd_train.astype(dict_to_change)\n",
    "\n",
    "X_train=[]\n",
    "for i in range(len(dd)):\n",
    "    X_train.append(np.array(dd_train.loc[i]).reshape((1,28,28)))   \n",
    "\n",
    "X_train = np.array(X_train)\n",
    "X_train = X_train.reshape((X_train.shape[0], X_train.shape[2], X_train.shape[3], X_train.shape[1]))\n"
   ]
  },
  {
   "cell_type": "markdown",
   "metadata": {},
   "source": [
    "# Building model"
   ]
  },
  {
   "cell_type": "code",
   "execution_count": 732,
   "metadata": {},
   "outputs": [],
   "source": [
    "inputs = Input(shape = (28,28,1), dtype = 'float32')\n",
    "x = Conv2D(32, kernel_size = (5,5), padding = 'same', activation = 'relu')(inputs)\n",
    "x = Conv2D(32, kernel_size = (5,5), padding = 'same', activation = 'relu')(x)\n",
    "x = MaxPool2D(pool_size = (2,2))(x)\n",
    "x = Dropout(0.25)(x)\n",
    "x = Conv2D(64, kernel_size = (3,3), padding = 'same', activation = 'relu')(x)\n",
    "x = Conv2D(64, kernel_size = (3,3), padding = 'same', activation = 'relu')(x)\n",
    "x = MaxPool2D(pool_size = (2,2))(x)\n",
    "x = Dropout(0.25)(x)\n",
    "x = Flatten()(x)\n",
    "x = Dense(256)(x)\n",
    "x = Dropout(0.25)(x)\n",
    "output = Dense(15, activation = 'softmax')(x)\n",
    "\n",
    "model = Model(inputs = inputs, outputs = output)\n"
   ]
  },
  {
   "cell_type": "code",
   "execution_count": 733,
   "metadata": {},
   "outputs": [
    {
     "name": "stdout",
     "output_type": "stream",
     "text": [
      "Model: \"model_3\"\n",
      "_________________________________________________________________\n",
      "Layer (type)                 Output Shape              Param #   \n",
      "=================================================================\n",
      "input_4 (InputLayer)         [(None, 28, 28, 1)]       0         \n",
      "_________________________________________________________________\n",
      "conv2d_12 (Conv2D)           (None, 28, 28, 32)        832       \n",
      "_________________________________________________________________\n",
      "conv2d_13 (Conv2D)           (None, 28, 28, 32)        25632     \n",
      "_________________________________________________________________\n",
      "max_pooling2d_6 (MaxPooling2 (None, 14, 14, 32)        0         \n",
      "_________________________________________________________________\n",
      "dropout_9 (Dropout)          (None, 14, 14, 32)        0         \n",
      "_________________________________________________________________\n",
      "conv2d_14 (Conv2D)           (None, 14, 14, 64)        18496     \n",
      "_________________________________________________________________\n",
      "conv2d_15 (Conv2D)           (None, 14, 14, 64)        36928     \n",
      "_________________________________________________________________\n",
      "max_pooling2d_7 (MaxPooling2 (None, 7, 7, 64)          0         \n",
      "_________________________________________________________________\n",
      "dropout_10 (Dropout)         (None, 7, 7, 64)          0         \n",
      "_________________________________________________________________\n",
      "flatten_3 (Flatten)          (None, 3136)              0         \n",
      "_________________________________________________________________\n",
      "dense_6 (Dense)              (None, 256)               803072    \n",
      "_________________________________________________________________\n",
      "dropout_11 (Dropout)         (None, 256)               0         \n",
      "_________________________________________________________________\n",
      "dense_7 (Dense)              (None, 15)                3855      \n",
      "=================================================================\n",
      "Total params: 888,815\n",
      "Trainable params: 888,815\n",
      "Non-trainable params: 0\n",
      "_________________________________________________________________\n"
     ]
    }
   ],
   "source": [
    "model.summary()"
   ]
  },
  {
   "cell_type": "code",
   "execution_count": 736,
   "metadata": {},
   "outputs": [
    {
     "name": "stdout",
     "output_type": "stream",
     "text": [
      "Epoch 1/20\n",
      "249/249 [==============================] - 233s 912ms/step - loss: 3.7931 - accuracy: 0.5585\n",
      "Epoch 2/20\n",
      "249/249 [==============================] - 215s 864ms/step - loss: 0.1858 - accuracy: 0.9454\n",
      "Epoch 3/20\n",
      "249/249 [==============================] - 238s 958ms/step - loss: 0.1134 - accuracy: 0.9673\n",
      "Epoch 4/20\n",
      "249/249 [==============================] - 219s 878ms/step - loss: 0.0844 - accuracy: 0.9744\n",
      "Epoch 5/20\n",
      "249/249 [==============================] - 223s 895ms/step - loss: 0.0658 - accuracy: 0.9807\n",
      "Epoch 6/20\n",
      "249/249 [==============================] - 217s 870ms/step - loss: 0.0547 - accuracy: 0.9838\n",
      "Epoch 7/20\n",
      "249/249 [==============================] - 219s 878ms/step - loss: 0.0516 - accuracy: 0.9840\n",
      "Epoch 8/20\n",
      "249/249 [==============================] - 219s 880ms/step - loss: 0.0452 - accuracy: 0.9865\n",
      "Epoch 9/20\n",
      "249/249 [==============================] - 216s 869ms/step - loss: 0.0371 - accuracy: 0.9884\n",
      "Epoch 10/20\n",
      "249/249 [==============================] - 218s 875ms/step - loss: 0.0402 - accuracy: 0.9880\n",
      "Epoch 11/20\n",
      "249/249 [==============================] - 229s 921ms/step - loss: 0.0345 - accuracy: 0.9904\n",
      "Epoch 12/20\n",
      "249/249 [==============================] - 222s 893ms/step - loss: 0.0288 - accuracy: 0.9910\n",
      "Epoch 13/20\n",
      "249/249 [==============================] - 221s 889ms/step - loss: 0.0255 - accuracy: 0.9924\n",
      "Epoch 14/20\n",
      "249/249 [==============================] - 226s 908ms/step - loss: 0.0286 - accuracy: 0.9908\n",
      "Epoch 15/20\n",
      "249/249 [==============================] - 220s 882ms/step - loss: 0.0263 - accuracy: 0.9915\n",
      "Epoch 16/20\n",
      "249/249 [==============================] - 221s 887ms/step - loss: 0.0233 - accuracy: 0.9922\n",
      "Epoch 17/20\n",
      "249/249 [==============================] - 216s 867ms/step - loss: 0.0288 - accuracy: 0.9912\n",
      "Epoch 18/20\n",
      "249/249 [==============================] - 222s 892ms/step - loss: 0.0219 - accuracy: 0.9930\n",
      "Epoch 19/20\n",
      "249/249 [==============================] - 223s 894ms/step - loss: 0.0187 - accuracy: 0.9937\n",
      "Epoch 20/20\n",
      "249/249 [==============================] - 228s 914ms/step - loss: 0.0213 - accuracy: 0.9932\n"
     ]
    }
   ],
   "source": [
    "model.compile(loss='categorical_crossentropy', optimizer='adam', metrics=['accuracy'])\n",
    "history = model.fit(X_train, y_train, epochs = 20, batch_size = 200, shuffle = True, verbose = 1)"
   ]
  },
  {
   "cell_type": "markdown",
   "metadata": {},
   "source": [
    "# Saving model"
   ]
  },
  {
   "cell_type": "code",
   "execution_count": 739,
   "metadata": {},
   "outputs": [],
   "source": [
    "model_json = model.to_json()\n",
    "with open(\"model2.json\", \"w\") as json_file:\n",
    "    json_file.write(model_json)\n",
    "# serialize weights to HDF5\n",
    "model.save_weights(\"model2.h5\")"
   ]
  },
  {
   "cell_type": "code",
   "execution_count": 738,
   "metadata": {
    "scrolled": true
   },
   "outputs": [
    {
     "data": {
      "image/png": "[encoded data removed]",
      "text/plain": [
       "<Figure size 432x288 with 1 Axes>"
      ]
     },
     "metadata": {
      "needs_background": "light"
     },
     "output_type": "display_data"
    }
   ],
   "source": [
    "plt.plot(history.history['accuracy'])\n",
    "#plt.plot(history.history['val_loss'])\n",
    "plt.title('model accuracy')\n",
    "plt.ylabel('accuracy')\n",
    "plt.xlabel('epoch')\n",
    "#plt.legend(['train', 'test'], loc='upper left')\n",
    "plt.show()"
   ]
  },
  {
   "cell_type": "code",
   "execution_count": null,
   "metadata": {},
   "outputs": [],
   "source": []
  }
 ],
 "metadata": {
  "kernelspec": {
   "display_name": "Python 3",
   "language": "python",
   "name": "python3"
  },
  "language_info": {
   "codemirror_mode": {
    "name": "ipython",
    "version": 3
   },
   "file_extension": ".py",
   "mimetype": "text/x-python",
   "name": "python",
   "nbconvert_exporter": "python",
   "pygments_lexer": "ipython3",
   "version": "3.7.6"
  }
 },
 "nbformat": 4,
 "nbformat_minor": 4
}
