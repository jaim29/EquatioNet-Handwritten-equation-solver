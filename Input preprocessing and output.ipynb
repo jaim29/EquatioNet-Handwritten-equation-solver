{
 "cells": [
  {
   "cell_type": "markdown",
   "metadata": {},
   "source": [
    "# Importing libraries"
   ]
  },
  {
   "cell_type": "code",
   "execution_count": 1,
   "metadata": {},
   "outputs": [],
   "source": [
    "%matplotlib inline\n",
    "\n",
    "import sympy\n",
    "from sympy.solvers import solve\n",
    "from sympy import *\n",
    "from sympy.parsing.sympy_parser import parse_expr\n",
    "import numpy as np\n",
    "import cv2\n",
    "from matplotlib import pyplot as plt\n",
    "from keras.models import model_from_json"
   ]
  },
  {
   "cell_type": "markdown",
   "metadata": {},
   "source": [
    "# Loading the pre-trained model"
   ]
  },
  {
   "cell_type": "code",
   "execution_count": 2,
   "metadata": {},
   "outputs": [],
   "source": [
    "json_file = open('model2.json', 'r')\n",
    "loaded_model_json = json_file.read()\n",
    "json_file.close()\n",
    "loaded_model = model_from_json(loaded_model_json)\n",
    "# load weights into new model\n",
    "loaded_model.load_weights(\"model2.h5\")"
   ]
  },
  {
   "cell_type": "markdown",
   "metadata": {},
   "source": [
    "# Some helper functions "
   ]
  },
  {
   "cell_type": "code",
   "execution_count": 3,
   "metadata": {},
   "outputs": [],
   "source": [
    "classes = ['0','1','2','3','4','5','6','7','8','9','-','+','=','x','y']"
   ]
  },
  {
   "cell_type": "code",
   "execution_count": 4,
   "metadata": {},
   "outputs": [],
   "source": [
    "def manipulate_string(string_list):\n",
    "    variables = ['x','y']\n",
    "    numbers = ['0','1','2','3','4','5','6','7','8','9']\n",
    "    for i in range(len(string_list)):\n",
    "        s= list(string_list[i])\n",
    "        index_of_eq = s.index('=')\n",
    "        if int(s[index_of_eq+1]) == 0:\n",
    "            s=s[:index_of_eq]\n",
    "        else:\n",
    "            s=['-' if i == '=' else i for i in s]\n",
    "\n",
    "        string_list[i]=s\n",
    "\n",
    "    #print(answer)\n",
    "    for j in range(len(string_list)):\n",
    "        s=string_list[j]\n",
    "        for i in range(len(s)):\n",
    "            if s[i] in variables:\n",
    "                if s[i+1] in numbers:\n",
    "                    s.insert(i+1,'**')\n",
    "                if i!=0 and s[i-1] in numbers:\n",
    "                    s.insert(i,'*')\n",
    "            else:\n",
    "                continue\n",
    "        string_list[j]=''.join(s)\n",
    "    \n",
    "    return string_list\n"
   ]
  },
  {
   "cell_type": "code",
   "execution_count": 40,
   "metadata": {},
   "outputs": [],
   "source": [
    "def find_indi(image):\n",
    "    #image = second \n",
    "\n",
    "    kernel = np.ones((20,5), np.uint8)\n",
    "\n",
    "    first_dil = cv2.dilate(image, kernel, iterations=1)\n",
    "\n",
    "    ctrs, hier = cv2.findContours(first_dil.copy(), cv2.RETR_EXTERNAL, cv2.CHAIN_APPROX_SIMPLE)\n",
    "\n",
    "    sorted_ctrs = sorted(ctrs, key = lambda ctr: cv2.boundingRect(ctr)[0])\n",
    "\n",
    "    chars = np.zeros((1,28,28))\n",
    "    for i in range(len(sorted_ctrs)):    \n",
    "        x,y,w,h = cv2.boundingRect(sorted_ctrs[i])\n",
    "        tt = image[y:y+h, x:x+w]\n",
    "        tt = cv2.resize(tt, (28,28), interpolation = cv2.INTER_NEAREST)\n",
    "        tt = tt[np.newaxis,:]\n",
    "        chars = np.concatenate((chars, tt))\n",
    "\n",
    "    return np.concatenate((chars[1:], np.zeros((1,28,28))))"
   ]
  },
  {
   "cell_type": "markdown",
   "metadata": {},
   "source": [
    "# Input image preprocessing "
   ]
  },
  {
   "cell_type": "code",
   "execution_count": 98,
   "metadata": {},
   "outputs": [
    {
     "name": "stdout",
     "output_type": "stream",
     "text": [
      "Input image:\n",
      "\n"
     ]
    },
    {
     "data": {
      "text/plain": [
       "<matplotlib.image.AxesImage at 0x7fe9d9502710>"
      ]
     },
     "execution_count": 98,
     "metadata": {},
     "output_type": "execute_result"
    },
    {
     "data": {
      "image/png": "[encoded data removed]",
      "text/plain": [
       "<Figure size 432x288 with 1 Axes>"
      ]
     },
     "metadata": {
      "needs_background": "light"
     },
     "output_type": "display_data"
    }
   ],
   "source": [
    "img = cv2.imread('test/quad.jpeg')\n",
    "gray_img = cv2.cvtColor(img, cv2.COLOR_BGR2GRAY)\n",
    "gray_img2 = cv2.fastNlMeansDenoising(gray_img, None, 21,7, 21) \n",
    "ret, thresh = cv2.threshold(gray_img2, 150, 255, cv2.THRESH_BINARY_INV)\n",
    "\n",
    "kernel = np.ones((5,200), np.uint8)\n",
    "img_dilation = cv2.dilate(thresh, kernel, iterations=1)\n",
    "print(\"Input image:\\n\")\n",
    "plt.imshow(thresh, cmap = 'gray')"
   ]
  },
  {
   "cell_type": "code",
   "execution_count": 99,
   "metadata": {},
   "outputs": [],
   "source": [
    "ctrs_line, hier = cv2.findContours(img_dilation.copy(), cv2.RETR_EXTERNAL, cv2.CHAIN_APPROX_SIMPLE)\n",
    "sorted_ctrs_line = sorted(ctrs_line, key = lambda ctr: cv2.boundingRect(ctr)[1])\n",
    "a = np.zeros((1,28,28))\n",
    "for i in sorted_ctrs_line:\n",
    "    x,y,w,h = cv2.boundingRect(i)\n",
    "    #plt.imshow(img_dilation[y:y+h,x:x+w])\n",
    "    chars = find_indi(thresh[y:y+h, x:x+w])\n",
    "    \n",
    "    a = np.concatenate((a,chars))\n",
    "\n",
    "a=a[1:]\n",
    "b = a[np.newaxis, :]\n",
    "b = b.reshape((b.shape[1],b.shape[0],b.shape[2],b.shape[3]))\n",
    "b = b.astype('float32')\n",
    "#b.shape"
   ]
  },
  {
   "cell_type": "code",
   "execution_count": 100,
   "metadata": {},
   "outputs": [
    {
     "data": {
      "image/png": "[encoded data removed]",
      "text/plain": [
       "<Figure size 1600x800 with 10 Axes>"
      ]
     },
     "metadata": {
      "needs_background": "light"
     },
     "output_type": "display_data"
    }
   ],
   "source": [
    "f = plt.figure(figsize=(20, 10), dpi = 80)\n",
    "n=len(a)\n",
    "for i in range(n):\n",
    "    # Debug, plot figure\n",
    "    f.add_subplot(1, n, i + 1)\n",
    "    plt.imshow(b[i][0], cmap = 'gray')\n",
    "\n",
    "plt.show(block=True)"
   ]
  },
  {
   "cell_type": "markdown",
   "metadata": {},
   "source": [
    "# Predicting the equation(s) in the input image "
   ]
  },
  {
   "cell_type": "code",
   "execution_count": 101,
   "metadata": {},
   "outputs": [
    {
     "data": {
      "text/plain": [
       "['x2-4x+3=0']"
      ]
     },
     "execution_count": 101,
     "metadata": {},
     "output_type": "execute_result"
    }
   ],
   "source": [
    "answer =[]\n",
    "s=''\n",
    "for i in range(len(b)):    \n",
    "    if np.array_equal(b[i][0],np.zeros((28,28))):\n",
    "        answer.append(s)\n",
    "        s=''\n",
    "    else:\n",
    "        pred = loaded_model.predict(b[i].reshape((1,28,28,1)))\n",
    "        s=s+classes[pred.argmax(axis = -1)[0]]\n",
    "answer"
   ]
  },
  {
   "cell_type": "markdown",
   "metadata": {},
   "source": [
    "# Answer to the predicted equation in the image"
   ]
  },
  {
   "cell_type": "code",
   "execution_count": 102,
   "metadata": {},
   "outputs": [
    {
     "name": "stdout",
     "output_type": "stream",
     "text": [
      "Equation(s): [x**2 - 4*x + 3]\n",
      "Answer: [{x: 1}, {x: 3}]\n"
     ]
    }
   ],
   "source": [
    "x = manipulate_string(answer)\n",
    "\n",
    "expressions =[]\n",
    "for ex in x:\n",
    "    expressions.append(parse_expr(ex))\n",
    "print('Equation(s): {}'.format(expressions)) \n",
    "print('Answer: {}'.format(solve(expressions)))"
   ]
  },
  {
   "cell_type": "code",
   "execution_count": null,
   "metadata": {},
   "outputs": [],
   "source": []
  }
 ],
 "metadata": {
  "kernelspec": {
   "display_name": "Python 3",
   "language": "python",
   "name": "python3"
  },
  "language_info": {
   "codemirror_mode": {
    "name": "ipython",
    "version": 3
   },
   "file_extension": ".py",
   "mimetype": "text/x-python",
   "name": "python",
   "nbconvert_exporter": "python",
   "pygments_lexer": "ipython3",
   "version": "3.7.6"
  }
 },
 "nbformat": 4,
 "nbformat_minor": 4
}
